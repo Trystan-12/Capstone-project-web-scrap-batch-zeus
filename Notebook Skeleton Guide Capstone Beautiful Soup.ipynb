{
 "cells": [
  {
   "cell_type": "markdown",
   "metadata": {},
   "source": [
    "# Capstone Webscraping using BeautifulSoup\n",
    "\n",
    "This notebook contains guidances & tasks on the data processing for the application\n",
    "\n",
    "## Background\n",
    "\n",
    "My manager demand me to analyze movement usd to idr from march to august 2024. Therefore, i do web scrapping to get the data that I want and I analyze it to give a useful analysis for my company.    \n",
    "\n",
    "## Requesting the Data and Creating a BeautifulSoup\n",
    "\n",
    "Let's start by requesting the webpage using the `get` method from the `requests` library."
   ]
  },
  {
   "cell_type": "code",
   "execution_count": 17,
   "metadata": {
    "ExecuteTime": {
     "end_time": "2020-01-13T05:12:23.275508Z",
     "start_time": "2020-01-13T05:12:20.009898Z"
    }
   },
   "outputs": [],
   "source": [
    "import requests\n",
    "\n",
    "url_get = requests.get('https://www.exchange-rates.org/exchange-rate-history/usd-idr')"
   ]
  },
  {
   "cell_type": "markdown",
   "metadata": {},
   "source": [
    "To visualize what exactly you get from the `request.get`, we can use `.content` so see what we exactly get (HTML content), in here i slice it so it won't make our screen full of the html we get from the page. You can delete the slicing if you want to see what we fully get."
   ]
  },
  {
   "cell_type": "code",
   "execution_count": 18,
   "metadata": {
    "ExecuteTime": {
     "end_time": "2020-01-13T05:12:23.290648Z",
     "start_time": "2020-01-13T05:12:23.277650Z"
    }
   },
   "outputs": [
    {
     "data": {
      "text/plain": [
       "b'!DOCTYPE html>\\r\\n<!--[if lt IE 9]>\\r\\n<html class=\"no-js ie8 oldie\" lang=\"en\" xml:lang=\\'en\\'>\\r\\n<![endif]-->\\r\\n<!--[if gt IE 8]><!--><html class=\"no-js\" lang=\"en\" xml:lang=\\'en\\'><!--<![endif]-->\\r\\n<head>\\r\\n<title>US Dollar to Indonesian Rupiah History - USD to IDR Historical Rates</title>\\r\\n<meta http-equiv=\"X-UA-Compatible\" content=\"IE=edge\">\\r\\n<meta name=\"viewport\" content=\"width=device-width, initial-scale=1, maximum-scale=5\">\\r\\n<meta charset=\"utf-8\" /><meta http-equiv=\"Content-Type\" content=\"text/html;'"
      ]
     },
     "execution_count": 18,
     "metadata": {},
     "output_type": "execute_result"
    }
   ],
   "source": [
    "url_get.content[1:500]"
   ]
  },
  {
   "cell_type": "markdown",
   "metadata": {},
   "source": [
    "As we can see we get a very unstructured and complex html, which actually contains the codes needed to show the webpages on your web browser. But we as human still confused what and where we can use that piece of code, so here where we use the beautifulsoup. Beautiful soup class will result a beautifulsoup object. Beautiful Soup transforms a complex HTML document into a complex tree of Python objects. \n",
    "\n",
    "Let's create a BeautifulSoup object and feel free to explore the object here."
   ]
  },
  {
   "cell_type": "code",
   "execution_count": 19,
   "metadata": {
    "ExecuteTime": {
     "end_time": "2020-01-13T05:12:23.808122Z",
     "start_time": "2020-01-13T05:12:23.292610Z"
    }
   },
   "outputs": [],
   "source": [
    "from bs4 import BeautifulSoup \n",
    "\n",
    "soup = BeautifulSoup(url_get.content,\"html.parser\")"
   ]
  },
  {
   "cell_type": "markdown",
   "metadata": {},
   "source": [
    "## Finding the right key to scrap the data & Extracting the right information"
   ]
  },
  {
   "cell_type": "markdown",
   "metadata": {},
   "source": [
    "To extract the desired information, we need to find the right key using the .find() method. We can explore the HTML structure using .prettify().\n",
    "\n",
    "*(please change this markdown with your explanation)*"
   ]
  },
  {
   "cell_type": "code",
   "execution_count": 20,
   "metadata": {
    "ExecuteTime": {
     "end_time": "2020-01-13T05:12:23.878904Z",
     "start_time": "2020-01-13T05:12:23.854974Z"
    }
   },
   "outputs": [
    {
     "name": "stdout",
     "output_type": "stream",
     "text": [
      "table border=\"0\" cellpadding=\"0\" cellspacing=\"0\" class=\"history-rates-data\">\n",
      " <thead>\n",
      "  <tr>\n",
      "   <th class=\"ltr-bidi-fix\">\n",
      "    Date\n",
      "   </th>\n",
      "   <th class=\"ltr-bidi-fix\">\n",
      "    US Dollar to Indonesian Rupiah\n",
      "   </th>\n",
      "  </tr>\n",
      " </thead>\n",
      " <tbody>\n",
      "  <tr>\n",
      "   <td>\n",
      "    <a class=\"w\" href=\"/exchange-rate-history/usd-idr-2024-08-30\">\n",
      "     <span class=\"nowrap\">\n",
      "      2024-8-30\n",
      "     </span>\n",
      "    </a>\n",
      "    <a class=\"n\" href=\"/exchange-rate-history/usd-idr-2024-08-30\">\n",
      "     <span class=\"nowrap\">\n",
      "      2024-8-30\n",
      "  \n"
     ]
    }
   ],
   "source": [
    "table = soup.find('table',attrs={'class':'history-rates-data'})\n",
    "print(table.prettify()[1:500])"
   ]
  },
  {
   "cell_type": "markdown",
   "metadata": {},
   "source": [
    "Next, we need to find the row length."
   ]
  },
  {
   "cell_type": "code",
   "execution_count": 21,
   "metadata": {},
   "outputs": [
    {
     "data": {
      "text/plain": [
       "130"
      ]
     },
     "execution_count": 21,
     "metadata": {},
     "output_type": "execute_result"
    }
   ],
   "source": [
    "row = table.find_all('span', attrs={'class':'w'})\n",
    "row_length = len(row)\n",
    "row_length"
   ]
  },
  {
   "cell_type": "markdown",
   "metadata": {},
   "source": [
    "Do the scrapping process here. This is for getting period and usd to idr nominal to python. I get data from March to August\n",
    "\n",
    "> You can use a for loop to perform the scraping process in various ways depending on the HTML structure of the website you want to scrap and the information you want to retrieve."
   ]
  },
  {
   "cell_type": "code",
   "execution_count": 73,
   "metadata": {
    "ExecuteTime": {
     "end_time": "2020-01-13T05:12:24.008256Z",
     "start_time": "2020-01-13T05:12:23.980358Z"
    }
   },
   "outputs": [
    {
     "data": {
      "text/plain": [
       "[('2024-5-27', '1 USD = 16,073 IDR'),\n",
       " ('2024-5-28', '1 USD = 16,115 IDR'),\n",
       " ('2024-5-29', '1 USD = 16,252 IDR'),\n",
       " ('2024-5-30', '1 USD = 16,233 IDR'),\n",
       " ('2024-5-31', '1 USD = 16,255 IDR'),\n",
       " ('2024-6-3', '1 USD = 16,210 IDR'),\n",
       " ('2024-6-4', '1 USD = 16,282 IDR'),\n",
       " ('2024-6-5', '1 USD = 16,312 IDR'),\n",
       " ('2024-6-6', '1 USD = 16,239 IDR'),\n",
       " ('2024-6-7', '1 USD = 16,277 IDR'),\n",
       " ('2024-6-10', '1 USD = 16,309 IDR'),\n",
       " ('2024-6-11', '1 USD = 16,306 IDR'),\n",
       " ('2024-6-12', '1 USD = 16,246 IDR'),\n",
       " ('2024-6-13', '1 USD = 16,283 IDR'),\n",
       " ('2024-6-14', '1 USD = 16,487 IDR'),\n",
       " ('2024-6-17', '1 USD = 16,467 IDR'),\n",
       " ('2024-6-18', '1 USD = 16,376 IDR'),\n",
       " ('2024-6-19', '1 USD = 16,391 IDR'),\n",
       " ('2024-6-20', '1 USD = 16,490 IDR'),\n",
       " ('2024-6-21', '1 USD = 16,478 IDR'),\n",
       " ('2024-6-24', '1 USD = 16,401 IDR'),\n",
       " ('2024-6-25', '1 USD = 16,399 IDR'),\n",
       " ('2024-6-26', '1 USD = 16,431 IDR'),\n",
       " ('2024-6-27', '1 USD = 16,387 IDR'),\n",
       " ('2024-6-28', '1 USD = 16,350 IDR'),\n",
       " ('2024-7-1', '1 USD = 16,374 IDR'),\n",
       " ('2024-7-2', '1 USD = 16,387 IDR'),\n",
       " ('2024-7-3', '1 USD = 16,346 IDR'),\n",
       " ('2024-7-4', '1 USD = 16,336 IDR'),\n",
       " ('2024-7-5', '1 USD = 16,252 IDR'),\n",
       " ('2024-7-8', '1 USD = 16,285 IDR'),\n",
       " ('2024-7-9', '1 USD = 16,284 IDR'),\n",
       " ('2024-7-10', '1 USD = 16,204 IDR'),\n",
       " ('2024-7-11', '1 USD = 16,104 IDR'),\n",
       " ('2024-7-12', '1 USD = 16,115 IDR'),\n",
       " ('2024-7-15', '1 USD = 16,192 IDR'),\n",
       " ('2024-7-16', '1 USD = 16,166 IDR'),\n",
       " ('2024-7-17', '1 USD = 16,151 IDR'),\n",
       " ('2024-7-18', '1 USD = 16,181 IDR'),\n",
       " ('2024-7-19', '1 USD = 16,213 IDR'),\n",
       " ('2024-7-22', '1 USD = 16,218 IDR'),\n",
       " ('2024-7-23', '1 USD = 16,219 IDR'),\n",
       " ('2024-7-24', '1 USD = 16,245 IDR'),\n",
       " ('2024-7-25', '1 USD = 16,332 IDR'),\n",
       " ('2024-7-26', '1 USD = 16,304 IDR'),\n",
       " ('2024-7-29', '1 USD = 16,297 IDR'),\n",
       " ('2024-7-30', '1 USD = 16,326 IDR'),\n",
       " ('2024-7-31', '1 USD = 16,251 IDR'),\n",
       " ('2024-8-1', '1 USD = 16,275 IDR'),\n",
       " ('2024-8-2', '1 USD = 16,176 IDR'),\n",
       " ('2024-8-5', '1 USD = 16,222 IDR'),\n",
       " ('2024-8-6', '1 USD = 16,175 IDR'),\n",
       " ('2024-8-7', '1 USD = 16,030 IDR'),\n",
       " ('2024-8-8', '1 USD = 15,985 IDR'),\n",
       " ('2024-8-9', '1 USD = 15,950 IDR'),\n",
       " ('2024-8-12', '1 USD = 15,948 IDR'),\n",
       " ('2024-8-13', '1 USD = 15,756 IDR'),\n",
       " ('2024-8-14', '1 USD = 15,634 IDR'),\n",
       " ('2024-8-15', '1 USD = 15,773 IDR'),\n",
       " ('2024-8-16', '1 USD = 15,698 IDR'),\n",
       " ('2024-8-19', '1 USD = 15,530 IDR'),\n",
       " ('2024-8-20', '1 USD = 15,449 IDR'),\n",
       " ('2024-8-21', '1 USD = 15,508 IDR'),\n",
       " ('2024-8-22', '1 USD = 15,751 IDR'),\n",
       " ('2024-8-23', '1 USD = 15,401 IDR'),\n",
       " ('2024-8-26', '1 USD = 15,483 IDR'),\n",
       " ('2024-8-27', '1 USD = 15,481 IDR'),\n",
       " ('2024-8-28', '1 USD = 15,446 IDR'),\n",
       " ('2024-8-29', '1 USD = 15,466 IDR')]"
      ]
     },
     "execution_count": 73,
     "metadata": {},
     "output_type": "execute_result"
    }
   ],
   "source": [
    "temp = []  # Initiating a tuple\n",
    "\n",
    "for i in range(0,row_length):\n",
    "    #get usd to idr period\n",
    "    period = table.find_all('a', attrs={'class':'w'})[i].text\n",
    "    #get usd to idr nominal\n",
    "    kurs_dolar = table.find_all('span', attrs={'class':'w'})[i].text\n",
    "    temp.append((period,kurs_dolar))            \n",
    "\n",
    "temp = temp[::-1]\n",
    "temp[60:129]"
   ]
  },
  {
   "cell_type": "markdown",
   "metadata": {},
   "source": [
    "Note: You can customize the code inside the loop according to your needs to extract the desired information from the website you scrap. Make sure to check and adjust the code well to suit the HTML structure and information you want to retrieve."
   ]
  },
  {
   "cell_type": "markdown",
   "metadata": {},
   "source": [
    "## Creating data frame & Data wrangling"
   ]
  },
  {
   "cell_type": "markdown",
   "metadata": {},
   "source": [
    "Once we have extracted the data, we can put it into a dataframe."
   ]
  },
  {
   "cell_type": "code",
   "execution_count": 66,
   "metadata": {
    "ExecuteTime": {
     "end_time": "2020-01-13T05:12:41.517372Z",
     "start_time": "2020-01-13T05:12:29.130015Z"
    }
   },
   "outputs": [
    {
     "data": {
      "text/html": [
       "<div>\n",
       "<style scoped>\n",
       "    .dataframe tbody tr th:only-of-type {\n",
       "        vertical-align: middle;\n",
       "    }\n",
       "\n",
       "    .dataframe tbody tr th {\n",
       "        vertical-align: top;\n",
       "    }\n",
       "\n",
       "    .dataframe thead th {\n",
       "        text-align: right;\n",
       "    }\n",
       "</style>\n",
       "<table border=\"1\" class=\"dataframe\">\n",
       "  <thead>\n",
       "    <tr style=\"text-align: right;\">\n",
       "      <th></th>\n",
       "      <th>Period</th>\n",
       "      <th>USD to IDR</th>\n",
       "    </tr>\n",
       "  </thead>\n",
       "  <tbody>\n",
       "    <tr>\n",
       "      <th>0</th>\n",
       "      <td>2024-3-4</td>\n",
       "      <td>1 USD = 15,760 IDR</td>\n",
       "    </tr>\n",
       "    <tr>\n",
       "      <th>1</th>\n",
       "      <td>2024-3-5</td>\n",
       "      <td>1 USD = 15,743 IDR</td>\n",
       "    </tr>\n",
       "    <tr>\n",
       "      <th>2</th>\n",
       "      <td>2024-3-6</td>\n",
       "      <td>1 USD = 15,660 IDR</td>\n",
       "    </tr>\n",
       "    <tr>\n",
       "      <th>3</th>\n",
       "      <td>2024-3-7</td>\n",
       "      <td>1 USD = 15,627 IDR</td>\n",
       "    </tr>\n",
       "    <tr>\n",
       "      <th>4</th>\n",
       "      <td>2024-3-8</td>\n",
       "      <td>1 USD = 15,541 IDR</td>\n",
       "    </tr>\n",
       "  </tbody>\n",
       "</table>\n",
       "</div>"
      ],
      "text/plain": [
       "     Period          USD to IDR\n",
       "0  2024-3-4  1 USD = 15,760 IDR\n",
       "1  2024-3-5  1 USD = 15,743 IDR\n",
       "2  2024-3-6  1 USD = 15,660 IDR\n",
       "3  2024-3-7  1 USD = 15,627 IDR\n",
       "4  2024-3-8  1 USD = 15,541 IDR"
      ]
     },
     "execution_count": 66,
     "metadata": {},
     "output_type": "execute_result"
    }
   ],
   "source": [
    "import pandas as pd\n",
    "\n",
    "not_clean_data = pd.DataFrame(temp,columns=('Period','USD to IDR'))\n",
    "not_clean_data.head()"
   ]
  },
  {
   "cell_type": "markdown",
   "metadata": {},
   "source": [
    "### Data Cleansing\n",
    "\n",
    "Cleaning the data as clean as possible. I change period datatype from object to datetime. then, i clean the string value in USD to IDR such as \"1 USD =\" and \" IDR\" and change the datatype to integer. Finally, set index on period to create better visualization."
   ]
  },
  {
   "cell_type": "code",
   "execution_count": 67,
   "metadata": {
    "ExecuteTime": {
     "end_time": "2020-01-13T05:12:59.165559Z",
     "start_time": "2020-01-13T05:12:58.910012Z"
    }
   },
   "outputs": [
    {
     "data": {
      "text/html": [
       "<div>\n",
       "<style scoped>\n",
       "    .dataframe tbody tr th:only-of-type {\n",
       "        vertical-align: middle;\n",
       "    }\n",
       "\n",
       "    .dataframe tbody tr th {\n",
       "        vertical-align: top;\n",
       "    }\n",
       "\n",
       "    .dataframe thead th {\n",
       "        text-align: right;\n",
       "    }\n",
       "</style>\n",
       "<table border=\"1\" class=\"dataframe\">\n",
       "  <thead>\n",
       "    <tr style=\"text-align: right;\">\n",
       "      <th></th>\n",
       "      <th>USD to IDR</th>\n",
       "    </tr>\n",
       "    <tr>\n",
       "      <th>Period</th>\n",
       "      <th></th>\n",
       "    </tr>\n",
       "  </thead>\n",
       "  <tbody>\n",
       "    <tr>\n",
       "      <th>2024-03-04</th>\n",
       "      <td>15760</td>\n",
       "    </tr>\n",
       "    <tr>\n",
       "      <th>2024-03-05</th>\n",
       "      <td>15743</td>\n",
       "    </tr>\n",
       "    <tr>\n",
       "      <th>2024-03-06</th>\n",
       "      <td>15660</td>\n",
       "    </tr>\n",
       "    <tr>\n",
       "      <th>2024-03-07</th>\n",
       "      <td>15627</td>\n",
       "    </tr>\n",
       "    <tr>\n",
       "      <th>2024-03-08</th>\n",
       "      <td>15541</td>\n",
       "    </tr>\n",
       "    <tr>\n",
       "      <th>...</th>\n",
       "      <td>...</td>\n",
       "    </tr>\n",
       "    <tr>\n",
       "      <th>2024-08-26</th>\n",
       "      <td>15483</td>\n",
       "    </tr>\n",
       "    <tr>\n",
       "      <th>2024-08-27</th>\n",
       "      <td>15481</td>\n",
       "    </tr>\n",
       "    <tr>\n",
       "      <th>2024-08-28</th>\n",
       "      <td>15446</td>\n",
       "    </tr>\n",
       "    <tr>\n",
       "      <th>2024-08-29</th>\n",
       "      <td>15466</td>\n",
       "    </tr>\n",
       "    <tr>\n",
       "      <th>2024-08-30</th>\n",
       "      <td>15532</td>\n",
       "    </tr>\n",
       "  </tbody>\n",
       "</table>\n",
       "<p>130 rows × 1 columns</p>\n",
       "</div>"
      ],
      "text/plain": [
       "            USD to IDR\n",
       "Period                \n",
       "2024-03-04       15760\n",
       "2024-03-05       15743\n",
       "2024-03-06       15660\n",
       "2024-03-07       15627\n",
       "2024-03-08       15541\n",
       "...                ...\n",
       "2024-08-26       15483\n",
       "2024-08-27       15481\n",
       "2024-08-28       15446\n",
       "2024-08-29       15466\n",
       "2024-08-30       15532\n",
       "\n",
       "[130 rows x 1 columns]"
      ]
     },
     "execution_count": 67,
     "metadata": {},
     "output_type": "execute_result"
    }
   ],
   "source": [
    "#change period datatype to datetime\n",
    "not_clean_data['Period'] = not_clean_data['Period'].astype('datetime64[ns]')\n",
    "\n",
    "#clean the string value and change datatype to integer\n",
    "not_clean_data['USD to IDR'] = not_clean_data['USD to IDR'].str.replace('1 USD =','')\n",
    "not_clean_data['USD to IDR'] = not_clean_data['USD to IDR'].str.replace(' IDR','')\n",
    "not_clean_data['USD to IDR'] = not_clean_data['USD to IDR'].str.replace(',','')\n",
    "not_clean_data['USD to IDR'] = not_clean_data['USD to IDR'].astype('int64')\n",
    "#set index on period\n",
    "df= not_clean_data.set_index('Period')\n",
    "df"
   ]
  },
  {
   "cell_type": "markdown",
   "metadata": {},
   "source": [
    "### Data Visualization\n",
    "\n",
    "In this step, we visualize usd to idr data in line graph to see movement of usd to idr daily"
   ]
  },
  {
   "cell_type": "code",
   "execution_count": 72,
   "metadata": {},
   "outputs": [
    {
     "data": {
      "text/plain": [
       "<Axes: xlabel='Period'>"
      ]
     },
     "execution_count": 72,
     "metadata": {},
     "output_type": "execute_result"
    },
    {
     "data": {
      "image/png": "[encoded data removed]",
      "text/plain": [
       "<Figure size 640x480 with 1 Axes>"
      ]
     },
     "metadata": {},
     "output_type": "display_data"
    }
   ],
   "source": [
    "df.plot()"
   ]
  },
  {
   "cell_type": "markdown",
   "metadata": {},
   "source": [
    "### Implementing your webscrapping to the flask dashboard\n",
    "\n",
    "- Copy paste all of your web scrapping process to the desired position on the `app.py`\n",
    "- Change the title of the dashboard in `index.html`"
   ]
  },
  {
   "cell_type": "markdown",
   "metadata": {},
   "source": [
    "## Finishing This Notebook with Your Analysis and Conclusion\n",
    "\n",
    "First you can do start with making the data visualization."
   ]
  },
  {
   "cell_type": "code",
   "execution_count": 57,
   "metadata": {
    "ExecuteTime": {
     "end_time": "2020-01-13T05:20:56.208237Z",
     "start_time": "2020-01-13T05:20:56.076043Z"
    }
   },
   "outputs": [
    {
     "data": {
      "text/plain": [
       "<Axes: xlabel='Period'>"
      ]
     },
     "execution_count": 57,
     "metadata": {},
     "output_type": "execute_result"
    },
    {
     "data": {
      "image/png": "[encoded data removed]",
      "text/plain": [
       "<Figure size 640x480 with 1 Axes>"
      ]
     },
     "metadata": {},
     "output_type": "display_data"
    }
   ],
   "source": [
    "df.plot()"
   ]
  },
  {
   "cell_type": "markdown",
   "metadata": {},
   "source": [
    "## Analysis\n",
    "\n",
    "Based on the data above, we can see usd to idr from 2024-03-04 to 2024-03-12 went down.Then, the trend changed from 2024-03-12 to 2024-06-20 when the price was 16.490. This is the highest price between March and August 2024. After that, the price went down until 2024-08-30.\n",
    "\n",
    "## conclusion\n",
    "\n",
    "The graph went down from 2024-03-04 to 2024-03-12 or only 8 days. Then the trend went up for more than three months and reached the highset price at 16,490 on 2024-06-20. Finally, the trend went down again till 2024-08-30"
   ]
  },
  {
   "cell_type": "markdown",
   "metadata": {},
   "source": [
    "### Extra Challange\n",
    "\n",
    "This will be not included to the scoring. \n",
    "\n",
    "- You can create additional visualization/analysis from the data.\n",
    "- Implement it to the dashboard with at `app.py` dan `index.html`."
   ]
  }
 ],
 "metadata": {
  "kernelspec": {
   "display_name": "webscrap",
   "language": "python",
   "name": "python3"
  },
  "language_info": {
   "codemirror_mode": {
    "name": "ipython",
    "version": 3
   },
   "file_extension": ".py",
   "mimetype": "text/x-python",
   "name": "python",
   "nbconvert_exporter": "python",
   "pygments_lexer": "ipython3",
   "version": "3.10.14"
  }
 },
 "nbformat": 4,
 "nbformat_minor": 2
}
